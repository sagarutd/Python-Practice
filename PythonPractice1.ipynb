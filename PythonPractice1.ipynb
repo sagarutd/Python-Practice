{
 "cells": [
  {
   "cell_type": "markdown",
   "id": "f5c34ebf",
   "metadata": {},
   "source": [
    "Q1. "
   ]
  },
  {
   "cell_type": "code",
   "execution_count": null,
   "id": "437bab07",
   "metadata": {
    "scrolled": true
   },
   "outputs": [],
   "source": [
    "flag = False\n",
    "go_on='yes'\n",
    "while go_on=='yes' or go_on=='YES' or go_on=='y' or go_on=='Y':\n",
    "    positive_integer = input('Please enter a positive integer: ')\n",
    "    \n",
    "    while not positive_integer.isdigit() or int(positive_integer)==0:\n",
    "             \n",
    "        positive_integer=input(\"This is not a valid positive integer value. Please re-enter a valid positive integer: \")\n",
    "    \n",
    "\n",
    "\n",
    "    positive_integer=int(positive_integer)\n",
    "    if positive_integer==1:\n",
    "        flag=True\n",
    "        \n",
    "    else:\n",
    "        \n",
    "        for i in range(2, positive_integer):\n",
    "            if (positive_integer % i) == 0:\n",
    "                flag = True\n",
    "                break\n",
    "            \n",
    "    if flag:\n",
    "         print(\"The number you entered is not a prime number.\")\n",
    "    else:\n",
    "        print(\"The number you entered is a prime number.\")\n",
    "    flag=False             \n",
    "        \n",
    "    go_on=''\n",
    "    while (go_on !='yes' and go_on!='no' and go_on!='y' and go_on!='n' and go_on!='YES' and  go_on!='NO' and  go_on!='Y' and go_on!='N'     ):\n",
    "        go_on = input('Would you like to continue? (yes/no): ')"
   ]
  },
  {
   "cell_type": "markdown",
   "id": "1001cae2",
   "metadata": {},
   "source": [
    "Q2."
   ]
  },
  {
   "cell_type": "code",
   "execution_count": null,
   "id": "d6a6d49f",
   "metadata": {},
   "outputs": [],
   "source": [
    "go_on='yes'\n",
    "\n",
    "while go_on=='yes' or go_on=='YES' or go_on=='y' or go_on=='Y':\n",
    "    positive_integer = input('Please enter a positive float string: ')\n",
    "        \n",
    "    while not positive_integer.replace('.','',1).isdigit():            \n",
    "        positive_integer=input(\"This is not a valid positive float string. Please re-enter a valid positive float string: \")      \n",
    "        \n",
    "    if positive_integer.isdigit():\n",
    "                ans=0\n",
    "                l=0\n",
    "    \n",
    "                for i in range(len(positive_integer)-1,-1,-1):\n",
    "        \n",
    "                    ans=ans+int(positive_integer[i])*(10.0**l)\n",
    "                    l=l+1\n",
    "                print(\"The float value of your string is: \"+str(ans))\n",
    "                print(\"The class of the converted output is: \"+str(type(ans)))\n",
    "    else:\n",
    "                ans=0\n",
    "                l=0\n",
    "                float_length=len(positive_integer)-positive_integer.index('.')\n",
    "                \n",
    "    \n",
    "                for i in range(positive_integer.index('.')-1,-1,-1):\n",
    "        \n",
    "                    ans=ans+ int(positive_integer[i])*10.0**l\n",
    "                    l=l+1\n",
    "        \n",
    "                l=-1\n",
    "                for i in range(positive_integer.index('.')+1,len(positive_integer)):\n",
    "        \n",
    "                    ans=ans+int(positive_integer[i])*10.0**l\n",
    "                    l=l-1      \n",
    "                \n",
    "                ans=round(ans,float_length)\n",
    "                print(\"The float value of your string is: \"+str(ans))\n",
    "                print(\"The class of the converted output is: \"+str(type(ans)))\n",
    "              \n",
    "    go_on=''\n",
    "    while (go_on !='yes' and go_on!='no' and go_on!='y' and go_on!='n' and go_on!='YES' and  go_on!='NO' and  go_on!='Y' and go_on!='N'     ):\n",
    "        go_on = input('Would you like to continue? (yes/no): ')"
   ]
  },
  {
   "cell_type": "markdown",
   "id": "5bdf2f4c",
   "metadata": {},
   "source": [
    "Q3."
   ]
  },
  {
   "cell_type": "code",
   "execution_count": null,
   "id": "f6f1757e",
   "metadata": {},
   "outputs": [],
   "source": [
    "flag = False\n",
    "go_on='yes'\n",
    "while go_on=='yes' or go_on=='YES' or go_on=='y' or go_on=='Y':\n",
    "    \n",
    "    input_str = input('Please enter a string: ')\n",
    "    \n",
    "    for i in range(0, int(len(input_str))):\n",
    "        if input_str[i]==input_str[len(input_str)-i-1]:\n",
    "            flag=True\n",
    "        else:\n",
    "            flag=False\n",
    "            \n",
    "    if flag:\n",
    "        print(\"The string you entered is a palindrome.\")\n",
    "    else:\n",
    "        print(\"The string you entered is not a palindrome.\")\n",
    "    flag=False           \n",
    "        \n",
    "    go_on=''\n",
    "    while (go_on !='yes' and go_on!='no' and go_on!='y' and go_on!='n' and go_on!='YES' and  go_on!='NO' and  go_on!='Y' and go_on!='N'     ):\n",
    "        go_on = input('Would you like to continue? (yes/no): ')"
   ]
  },
  {
   "cell_type": "markdown",
   "id": "11180146",
   "metadata": {},
   "source": [
    "Q4."
   ]
  },
  {
   "cell_type": "code",
   "execution_count": null,
   "id": "5efcf40c",
   "metadata": {},
   "outputs": [],
   "source": [
    "go_on='yes'\n",
    "accepted_input = {'0', '1'}\n",
    "while go_on=='yes' or go_on=='YES' or go_on=='y' or go_on=='Y':\n",
    "    decimal_value=0\n",
    "    iterator=0\n",
    "    binary_string = input('Please enter a binary string: ')\n",
    "    \n",
    "    while not binary_string.isdigit():\n",
    "            \n",
    "        binary_string=input(\"This is not a valid binary string. Please re-enter a valid binary string: \")\n",
    "            \n",
    "    while not (accepted_input == set(binary_string) or set(binary_string) =={'0'} or set(binary_string) == {'1'}):\n",
    "        \n",
    "        binary_string=input(\"This is not a valid binary string. Please re-enter a valid binary string: \")\n",
    "\n",
    "    for i in range(len(binary_string)-1, -1, -1):\n",
    "        decimal_value = decimal_value + 2**iterator * int(binary_string[i])\n",
    "        iterator=iterator+1\n",
    "            \n",
    "    print(\"The decimal value of your binary string is: \"+str(decimal_value))             \n",
    "        \n",
    "    go_on=''\n",
    "    while (go_on !='yes' and go_on!='no' and go_on!='y' and go_on!='n' and go_on!='YES' and  go_on!='NO' and  go_on!='Y' and go_on!='N'     ):\n",
    "        go_on = input('Would you like to continue? (yes/no): ')"
   ]
  },
  {
   "cell_type": "markdown",
   "id": "2df3cefb",
   "metadata": {},
   "source": [
    "Q5."
   ]
  },
  {
   "cell_type": "code",
   "execution_count": null,
   "id": "176db465",
   "metadata": {},
   "outputs": [],
   "source": [
    "flag = False\n",
    "go_on='yes'\n",
    "from datetime import date\n",
    "todays_date = date.today()\n",
    "  \n",
    "while go_on=='yes' or go_on=='YES' or go_on=='y' or go_on=='Y':\n",
    "    \n",
    "    prop_value = input('Please enter the value of your property: ')\n",
    "    \n",
    "    while not prop_value.isdigit():\n",
    "             \n",
    "        prop_value=input(\"Please enter a positive integer value of your property: \")  \n",
    "    \n",
    "    prop_year = input('Please enter the year the property is built: ')\n",
    "    \n",
    "    while not prop_year.isdigit() or int(prop_year)>2021:\n",
    "             \n",
    "        prop_year=input(\"Please enter a positive integer value of your property less than or equal to 2021: \")\n",
    "    \n",
    "    prop_value = int(prop_value)\n",
    "    prop_year = int(prop_year)\n",
    "    \n",
    "    current_year = todays_date.year\n",
    "    \n",
    "    if current_year > prop_year:\n",
    "        diff_year = current_year - prop_year\n",
    "    else:\n",
    "        diff_year = prop_year - current_year\n",
    "    \n",
    "    if diff_year <= 10:\n",
    "        depr_factor = 0\n",
    "    elif diff_year > 10 and diff_year <= 15:\n",
    "        depr_factor = 0.05\n",
    "    elif diff_year > 15 and diff_year <= 25:\n",
    "        depr_factor = 0.1\n",
    "    elif diff_year > 25:\n",
    "        depr_factor = 0.15\n",
    " \n",
    "    prop_tax = 0.025 * (prop_value * (1 - depr_factor))\n",
    "        \n",
    "    print(\"Property tax amount you owe is: ${:,.2f}\".format(prop_tax))\n",
    "    \n",
    "    go_on=''\n",
    "    while (go_on !='yes' and go_on!='no' and go_on!='y' and go_on!='n' and go_on!='YES' and  go_on!='NO' and  go_on!='Y' and go_on!='N'     ):\n",
    "        go_on = input('Would you like to continue? (yes/no): ')"
   ]
  }
 ],
 "metadata": {
  "kernelspec": {
   "display_name": "Python 3",
   "language": "python",
   "name": "python3"
  },
  "language_info": {
   "codemirror_mode": {
    "name": "ipython",
    "version": 3
   },
   "file_extension": ".py",
   "mimetype": "text/x-python",
   "name": "python",
   "nbconvert_exporter": "python",
   "pygments_lexer": "ipython3",
   "version": "3.8.8"
  }
 },
 "nbformat": 4,
 "nbformat_minor": 5
}
