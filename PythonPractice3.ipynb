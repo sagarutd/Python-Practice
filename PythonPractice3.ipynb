{
 "cells": [
  {
   "cell_type": "markdown",
   "id": "24c71721",
   "metadata": {},
   "source": [
    "Q.1"
   ]
  },
  {
   "cell_type": "code",
   "execution_count": null,
   "id": "1c54900e",
   "metadata": {},
   "outputs": [],
   "source": [
    "numbers   = open('numbers.txt')\n",
    "operators = open('operators.txt')\n",
    "output    = open('output.txt','w')\n",
    "\n",
    "for i in operators:\n",
    "    try:    \n",
    "        line_odd = numbers.readline().strip()\n",
    "        line_even = numbers.readline().strip()      \n",
    "        i = i.strip()\n",
    "    \n",
    "        if i == '+':\n",
    "            calc_value = int(line_odd) + int(line_even)\n",
    "        elif i == '*':\n",
    "            calc_value = int(line_odd) * int(line_even)\n",
    "        elif i  == '/': \n",
    "            calc_value = int(line_odd) / int(line_even)\n",
    "        elif i  == '-':\n",
    "            calc_value = int(line_odd) - int(line_even)           \n",
    "\n",
    "        output.write(line_odd +' '+ i +' '+ line_even +' '+ '=' +' '+ str(int(calc_value))+' '+'\\n')\n",
    "    except ZeroDivisionError:\n",
    "        output.write(line_odd +' '+ i +' '+ line_even +' '+ ' - Division by zero not allowed (ZeroDivisionError)\\n')\n",
    "    except ValueError:\n",
    "        output.write(line_odd +' '+ i +' '+ line_even +' '+ ' - Can not add characters (ValueError)\\n')\n",
    "        \n",
    "numbers.close()\n",
    "operators.close()\n",
    "output.close()"
   ]
  },
  {
   "cell_type": "markdown",
   "id": "274bbe29",
   "metadata": {},
   "source": [
    "Q.2"
   ]
  },
  {
   "cell_type": "code",
   "execution_count": null,
   "id": "b7e45a43",
   "metadata": {},
   "outputs": [],
   "source": [
    "input_file=open('input.txt','r')\n",
    "val=input_file.read()\n",
    "splitted_string=str(val).split('\\n')\n",
    "a=0\n",
    "count=0\n",
    "concat=''\n",
    "for i in splitted_string:\n",
    "    \n",
    "    if i.isnumeric():\n",
    "        \n",
    "        a = a + int(i)\n",
    "        count+=1\n",
    "        \n",
    "    else:\n",
    "        \n",
    "        concat=concat+i+'.'\n",
    "        \n",
    "        \n",
    "average = a / count\n",
    "input_file.close()\n",
    "output_file=open('output.txt','w')\n",
    "output_file.write('The average of numerical values in the file is:\\n'+str(average)+'\\n\\n\\n')\n",
    "output_file.write('The concatenated text in the file is:\\n'+str(concat))\n",
    "output_file.close()"
   ]
  },
  {
   "cell_type": "markdown",
   "id": "cc185360",
   "metadata": {},
   "source": [
    "Q.3"
   ]
  },
  {
   "cell_type": "code",
   "execution_count": 1,
   "id": "fc58caa8",
   "metadata": {},
   "outputs": [
    {
     "name": "stdout",
     "output_type": "stream",
     "text": [
      "Enter a list of integers seperated by commas: a,4,-1,0\n",
      "The entry is:a\n",
      "Oops!! Exception <class 'ValueError'> occured.\n",
      "\n",
      "The entry is:4\n",
      "the inverse of 4 is 0.25\n",
      "\n",
      "The entry is:-1\n",
      "the inverse of -1 is -1.0\n",
      "\n",
      "The entry is:0\n",
      "Oops!! Exception <class 'ZeroDivisionError'> occured.\n",
      "\n",
      "Do you want to continue?(yes/no)yes\n",
      "Enter a list of integers seperated by commas: 2,5\n",
      "The entry is:2\n",
      "the inverse of 2 is 0.5\n",
      "\n",
      "The entry is:5\n",
      "the inverse of 5 is 0.2\n",
      "\n",
      "Do you want to continue?(yes/no)no\n"
     ]
    }
   ],
   "source": [
    "go_on = True\n",
    "\n",
    "while go_on:   \n",
    "    input_char = input('Enter a list of integers seperated by commas: ')\n",
    "    input_char = input_char.split(',')\n",
    "    \n",
    "    for i in input_char:        \n",
    "        try:           \n",
    "            print('The entry is:'+i)          \n",
    "            i = int(i)         \n",
    "            inverse = 1/i         \n",
    "            print('the inverse of {} is {}\\n'.format(i,inverse))\n",
    "            \n",
    "        except ValueError as ve:           \n",
    "            print('Oops!! Exception {} occured.\\n'.format(str(type(ve))))\n",
    "            \n",
    "        except ZeroDivisionError as zde:         \n",
    "            print('Oops!! Exception {} occured.\\n'.format(str(type(zde))))\n",
    "        \n",
    "    choice=''   \n",
    "    while choice not in ['yes','no']:\n",
    "        \n",
    "        choice=input('Do you want to continue?(yes/no)')\n",
    "        \n",
    "    if choice=='no':       \n",
    "        go_on=False"
   ]
  },
  {
   "cell_type": "markdown",
   "id": "488594f9",
   "metadata": {},
   "source": [
    "Q.4"
   ]
  },
  {
   "cell_type": "code",
   "execution_count": null,
   "id": "fb05195a",
   "metadata": {
    "scrolled": true
   },
   "outputs": [],
   "source": [
    "class Absolute:\n",
    "    input_type = '' \n",
    "    def __init__(self, input_char):                 \n",
    "            self.input_char = abs(float(input_char))\n",
    "    \n",
    "    def abs(self):\n",
    "                return self.input_char\n",
    "\n",
    "import re\n",
    "regexSpecialChar = re.compile('[@_!#$%^&*()<>?/\\|}{}~:]')\n",
    "regexTwoHyphen = re.compile('--')\n",
    "regexDigit = re.compile('^[+-]?((\\d+(\\.\\d+)?)|(\\.\\d+))$')\n",
    "\n",
    "class SpecialCharError(Exception):\n",
    "    pass\n",
    "go_on='yes'\n",
    "\n",
    "input_char = input('Please enter a number: ')\n",
    "\n",
    "while go_on=='yes' or go_on=='YES' or go_on=='y' or go_on=='Y':\n",
    " try:   \n",
    "   \n",
    "    if regexSpecialChar.search(input_char) != None or regexTwoHyphen.search(input_char) != None:\n",
    "        raise SpecialCharError\n",
    "        \n",
    "    if regexDigit.search(input_char) == None:\n",
    "        raise ValueError\n",
    "      \n",
    "    abs1 = Absolute(input_char)\n",
    "    \n",
    "    if '.' not in input_char:\n",
    "        print ('The absolute value of your number is: ' + str(int(abs1.abs())))\n",
    "    else:\n",
    "        print ('The absolute value of your number is: ' + str((abs1.abs())))\n",
    "    \n",
    " except SpecialCharError:\n",
    "    input_char = input('Caught a user-defined exception. Please re-enter a valid number: ')\n",
    "    continue\n",
    "    \n",
    " except ValueError:\n",
    "    input_char = input('Caught a python exception. Please re-enter a valid number: ')\n",
    "    continue\n",
    "\n",
    " go_on=''\n",
    " while (go_on !='yes' and go_on!='no' and go_on!='y' and go_on!='n' and go_on!='YES' and  go_on!='NO' and  go_on!='Y' and go_on!='N'     ):\n",
    "        go_on = input('Would you like to continue? (yes/no): ')\n",
    "  \n",
    " if go_on=='yes' or go_on=='YES' or go_on=='y' or go_on=='Y':\n",
    "     input_char = input('Please enter a number: ')\n"
   ]
  }
 ],
 "metadata": {
  "kernelspec": {
   "display_name": "Python 3",
   "language": "python",
   "name": "python3"
  },
  "language_info": {
   "codemirror_mode": {
    "name": "ipython",
    "version": 3
   },
   "file_extension": ".py",
   "mimetype": "text/x-python",
   "name": "python",
   "nbconvert_exporter": "python",
   "pygments_lexer": "ipython3",
   "version": "3.8.8"
  }
 },
 "nbformat": 4,
 "nbformat_minor": 5
}
