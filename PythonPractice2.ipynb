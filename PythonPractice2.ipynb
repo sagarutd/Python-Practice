{
 "cells": [
  {
   "cell_type": "markdown",
   "id": "7bb84604",
   "metadata": {},
   "source": [
    "Q.1"
   ]
  },
  {
   "cell_type": "code",
   "execution_count": null,
   "id": "34ba08a0",
   "metadata": {},
   "outputs": [],
   "source": [
    "go_on='yes'\n",
    "\n",
    "def calc_min_max(input_integer):\n",
    "    \n",
    "        for unwanted_char in [';',':','/','.',',']:\n",
    "            input_integer=input_integer.replace(unwanted_char,' ')\n",
    "    \n",
    "        splitted_input = input_integer.split()\n",
    "    \n",
    "        splitted_input = [int(x) for x in splitted_input]\n",
    "        \n",
    "        return [min(splitted_input),max(splitted_input)];\n",
    "    \n",
    "\n",
    "while go_on=='yes' or go_on=='YES' or go_on=='y' or go_on=='Y':\n",
    "    input_integer = input('Please enter a list of numbers: ')\n",
    "                 \n",
    "    output_list = calc_min_max(input_integer)\n",
    "    \n",
    "    print('Minimum number is: ',min(output_list))  \n",
    "    print('Maximum number is: ',max(output_list)) \n",
    "    go_on=''\n",
    "    while (go_on !='yes' and go_on!='no' and go_on!='y' and go_on!='n' and go_on!='YES' and  go_on!='NO' and  go_on!='Y' and go_on!='N'     ):\n",
    "        go_on = input('Would you like to continue? (yes/no): ')"
   ]
  },
  {
   "cell_type": "markdown",
   "id": "91580846",
   "metadata": {},
   "source": [
    "Q.2"
   ]
  },
  {
   "cell_type": "code",
   "execution_count": null,
   "id": "7e4aebaf",
   "metadata": {},
   "outputs": [],
   "source": [
    "def calc_percentile(splitted_input, percentile):\n",
    "    \n",
    "    percentile = int(percentile)\n",
    "    index = percentile/100 * len(splitted_input)\n",
    "        \n",
    "    if index % 0.5 == 0 and index % 0.1 != 0:\n",
    "        index=round(index+0.1)\n",
    "    else:\n",
    "        index=round(index)\n",
    "\n",
    "    if index == 0:\n",
    "        return splitted_input[int(index)];\n",
    "    else:\n",
    "        return splitted_input[int(index-1)];\n",
    "\n",
    "\n",
    "input_integer = input('Please enter a list of numbers: ')\n",
    "\n",
    "input_integer=input_integer.replace(',',' ')\n",
    "input_integer=input_integer.replace(';',' ')\n",
    "input_integer=input_integer.replace(':',' ')\n",
    "input_integer=input_integer.replace('/',' ') \n",
    "\n",
    "if \" \" in input_integer:\n",
    "    splitted_input = input_integer.split(' ')\n",
    "\n",
    "splitted_input = [int(x) for x in splitted_input]\n",
    "splitted_input.sort()\n",
    "print('The sorted list elements are:',splitted_input)\n",
    "\n",
    "compute_another = 'yes'\n",
    "\n",
    "while compute_another=='yes' or compute_another=='YES' or compute_another=='y' or compute_another=='Y':\n",
    "    percentile = input('Please enter the percentile to compute (1 to 100): ')\n",
    "\n",
    "    output_percentile = calc_percentile(splitted_input, percentile)\n",
    "\n",
    "    print('The '+str(percentile)+'th percentile is: ',output_percentile)           \n",
    "\n",
    "    compute_another = ''\n",
    "\n",
    "    while (compute_another !='yes' and compute_another!='no' and compute_another!='y' and compute_another!='n' and compute_another!='YES' and  compute_another!='NO' and  compute_another!='Y' and compute_another!='N'     ):\n",
    "        compute_another = input('Would you like to compute another percentile? (yes/no): ')"
   ]
  },
  {
   "cell_type": "markdown",
   "id": "1fd3edf0",
   "metadata": {},
   "source": [
    "Q.3"
   ]
  },
  {
   "cell_type": "code",
   "execution_count": null,
   "id": "a5574777",
   "metadata": {},
   "outputs": [],
   "source": [
    "import re\n",
    "\n",
    "go_on='yes'\n",
    "while go_on=='yes' or go_on=='YES' or go_on=='y' or go_on=='Y':\n",
    "    input_sentence = input('Please enter a sentence: ')\n",
    "    \n",
    "    input_sentence = ''.join(sorted(input_sentence.lower()))\n",
    "    \n",
    "    alpha_list = []\n",
    "    for i in input_sentence:   \n",
    "        pattern = re.compile(\"^[a-zA-Z]+$\")\n",
    "        if pattern.match(i) and i not in alpha_list:\n",
    "            alpha_list.append(i)\n",
    "            if input_sentence.count(i) > 1:\n",
    "                print('Letter \\'{val}\\' appears {val1} times.'.format(val=i,val1=input_sentence.count(i)))\n",
    "            else:\n",
    "                print('Letter \\'{val}\\' appears {val1} time.'.format(val=i,val1=input_sentence.count(i)))\n",
    "       \n",
    "    go_on=''\n",
    "    while (go_on !='yes' and go_on!='no' and go_on!='y' and go_on!='n' and go_on!='YES' and  go_on!='NO' and  go_on!='Y' and go_on!='N'     ):\n",
    "        go_on = input('Would you like to continue? (yes/no): ')"
   ]
  },
  {
   "cell_type": "markdown",
   "id": "36796938",
   "metadata": {},
   "source": [
    "Q.4"
   ]
  },
  {
   "cell_type": "code",
   "execution_count": null,
   "id": "eea1d49e",
   "metadata": {},
   "outputs": [],
   "source": [
    "import re\n",
    "\n",
    "go_on='yes'\n",
    "while go_on=='yes' or go_on=='YES' or go_on=='y' or go_on=='Y':\n",
    "    input_location = input('Please enter your location: ')\n",
    "    \n",
    "    while input_location.lower() not in ['dallas','austin','houston']:\n",
    "        input_location = input('Please enter your location: ')\n",
    "        \n",
    "    dallas = ['mushrooms','spinach','onions','tomatoes','feta']\n",
    "    austin = ['broccoli','tomatoes','eggplant','olives','cheddar']\n",
    "    houston= ['jalapenos','pineapple','spinach','olives','mozzarella']\n",
    "     \n",
    "    input_toppings = input('Please enter the toppings of your pizza: ')\n",
    "        \n",
    "    splitted_input = [x for x in input_toppings.split(',')]\n",
    "    \n",
    "    not_available = []\n",
    "    \n",
    "    for i in splitted_input:\n",
    "        if input_location.lower() == 'dallas' and i.strip() not in dallas:\n",
    "            not_available.append(i)\n",
    "        if input_location.lower() == 'austin' and i.strip() not in austin:\n",
    "            not_available.append(i)\n",
    "        if input_location.lower() == 'houston' and i.strip() not in houston:\n",
    "            not_available.append(i)\n",
    "            \n",
    "    if len(not_available) == 0:\n",
    "        print('The toppings you provided for your pizza are all available. Please proceed to checkout.')\n",
    "    else:\n",
    "        print('Based on your location, the following toppings are not available: {}'.format(\",\".join(not_available)))\n",
    "    \n",
    "    go_on=''\n",
    "    while (go_on !='yes' and go_on!='no' and go_on!='y' and go_on!='n' and go_on!='YES' and  go_on!='NO' and  go_on!='Y' and go_on!='N'     ):\n",
    "        go_on = input('Would you like to continue? (yes/no): ')"
   ]
  },
  {
   "cell_type": "markdown",
   "id": "1fe4efbc",
   "metadata": {},
   "source": [
    "Q.5"
   ]
  },
  {
   "cell_type": "code",
   "execution_count": null,
   "id": "db66e330",
   "metadata": {},
   "outputs": [],
   "source": [
    "go_on='yes'   \n",
    "    \n",
    "def atm(input_amount):\n",
    "        \n",
    "        denomination_dict = {100:0,50:0,20:0,10:0,5:0,2:0,1:0}\n",
    "            \n",
    "        for deno in denomination_dict:\n",
    "                while input_amount != 0 and input_amount >= deno:\n",
    "                    denomination_dict[deno] +=1\n",
    "                    input_amount = input_amount - deno\n",
    "            \n",
    "        return denomination_dict;\n",
    "    \n",
    "\n",
    "while go_on=='yes' or go_on=='YES' or go_on=='y' or go_on=='Y':\n",
    "    \n",
    "    input_amount = input('Enter Amount to be paid in $: ')\n",
    "    \n",
    "    while not input_amount.isdigit():\n",
    "             input_amount = input('This is not a valid positive integer value. Please re-enter a valid positive integer: ')\n",
    "      \n",
    "    input_amount=int(input_amount)\n",
    "    \n",
    "    denomination_dict = atm(input_amount)\n",
    "    \n",
    "    for deno in denomination_dict:\n",
    "        print('Denomination $: {} \\t Number of Notes {}'.format(deno,denomination_dict[deno]))\n",
    "    \n",
    "    go_on=''\n",
    "    while (go_on !='yes' and go_on!='no' and go_on!='y' and go_on!='n' and go_on!='YES' and  go_on!='NO' and  go_on!='Y' and go_on!='N'     ):\n",
    "        go_on = input('Would you like to continue? (yes/no): ')\n",
    "        \n",
    " "
   ]
  }
 ],
 "metadata": {
  "kernelspec": {
   "display_name": "Python 3",
   "language": "python",
   "name": "python3"
  },
  "language_info": {
   "codemirror_mode": {
    "name": "ipython",
    "version": 3
   },
   "file_extension": ".py",
   "mimetype": "text/x-python",
   "name": "python",
   "nbconvert_exporter": "python",
   "pygments_lexer": "ipython3",
   "version": "3.8.8"
  }
 },
 "nbformat": 4,
 "nbformat_minor": 5
}
